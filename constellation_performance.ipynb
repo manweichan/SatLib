{
 "cells": [
  {
   "cell_type": "markdown",
   "metadata": {},
   "source": [
    "# Preamble\n",
    "\n",
    "This notebook provides an example of how to calculate the performance of a reconfigurable and ISL capable\n",
    "constellation in terms of the metrics: Age of Information, system response time, and total pass time."
   ]
  },
  {
   "cell_type": "code",
   "execution_count": 1,
   "metadata": {
    "ExecuteTime": {
     "end_time": "2023-09-09T08:56:53.566728Z",
     "start_time": "2023-09-09T08:56:53.548907Z"
    }
   },
   "outputs": [],
   "source": [
    "%load_ext autoreload\n",
    "%autoreload 2"
   ]
  },
  {
   "cell_type": "code",
   "execution_count": 2,
   "metadata": {
    "ExecuteTime": {
     "end_time": "2023-09-09T08:57:10.791530Z",
     "start_time": "2023-09-09T08:56:53.567903Z"
    }
   },
   "outputs": [],
   "source": [
    "import os, sys\n",
    "sys.path.append('../SatLib')\n",
    "import satbox as sb\n",
    "import utils as utils\n"
   ]
  },
  {
   "cell_type": "code",
   "execution_count": 3,
   "metadata": {
    "ExecuteTime": {
     "end_time": "2023-09-09T08:57:10.807558Z",
     "start_time": "2023-09-09T08:57:10.792872Z"
    }
   },
   "outputs": [],
   "source": [
    "import astropy.units as u\n",
    "from astropy.time import Time"
   ]
  },
  {
   "cell_type": "markdown",
   "metadata": {},
   "source": [
    "# Parameters"
   ]
  },
  {
   "cell_type": "code",
   "execution_count": 4,
   "metadata": {
    "ExecuteTime": {
     "end_time": "2023-09-09T08:57:10.826033Z",
     "start_time": "2023-09-09T08:57:10.809698Z"
    }
   },
   "outputs": [],
   "source": [
    "####### Parameters ####### \n",
    "#Determine time to propagate\n",
    "t2propagate = 3*u.day\n",
    "\n",
    "#Determine distance Threshold for ISL\n",
    "distThreshold = 1250 * u.km\n",
    "####### ####### ####### ####### "
   ]
  },
  {
   "cell_type": "markdown",
   "metadata": {},
   "source": [
    "# Initialize ground stations"
   ]
  },
  {
   "cell_type": "code",
   "execution_count": 5,
   "metadata": {
    "ExecuteTime": {
     "end_time": "2023-09-09T08:57:10.846746Z",
     "start_time": "2023-09-09T08:57:10.827213Z"
    }
   },
   "outputs": [],
   "source": [
    "#BlackSky Ground stations from FCC Report pg 7: https://fcc.report/IBFS/SAT-MOD-20190725-00067/1816346.pdf\n",
    "latLon = [(13.5, 144.8 ,'Guam'),\n",
    "          (64.8, -147.5,   'Fairbanks'),\n",
    "          (78.2, 15.4,   'Svalbard'),\n",
    "          (50.3, 8.5, 'Usingen'),\n",
    "          (-46.5, 168.4,  'Invercargill'),\n",
    "          (42.8, 141.6, 'Chitose'),\n",
    "          ]\n",
    "\n",
    "#Create ground stations\n",
    "groundStations = []\n",
    "groundStationNodes = []\n",
    "gsID = 0\n",
    "for latlon in latLon:\n",
    "    gs_lat = latlon[0] * u.deg\n",
    "    gs_lon = latlon[1] * u.deg\n",
    "    gs_name = latlon[2]\n",
    "    gs_h = 0 * u.m\n",
    "    gNode = 'g'+str(gsID)\n",
    "    g_id = gNode\n",
    "    groundStationNodes.append(g_id)\n",
    "    gs = sb.GroundLoc(gs_lon, gs_lat, gs_h, groundID=g_id, identifier=gs_name)\n",
    "    groundStations.append(gs)\n",
    "    gsID += 1"
   ]
  },
  {
   "cell_type": "markdown",
   "metadata": {},
   "source": [
    "# Initialize constellation"
   ]
  },
  {
   "cell_type": "code",
   "execution_count": 6,
   "metadata": {
    "ExecuteTime": {
     "end_time": "2023-09-09T08:57:10.874744Z",
     "start_time": "2023-09-09T08:57:10.847995Z"
    }
   },
   "outputs": [
    {
     "name": "stderr",
     "output_type": "stream",
     "text": [
      "/Users/manweichan/Desktop/MITPhD/SAS/code/.venv/lib/python3.7/site-packages/astropy/units/decorators.py:253: UserWarning: Wrapping true anomaly to -π <= nu < π\n",
      "  return_ = wrapped_function(*func_args, **func_kwargs)\n"
     ]
    }
   ],
   "source": [
    "t2020 = Time('2019-03-21')\n",
    "\n",
    "i = 60 * u.deg\n",
    "t = 12\n",
    "p = 2\n",
    "f = 0\n",
    "alt = 550 * u.km\n",
    "walker = sb.Constellation.from_walker(i,t,p,f,alt, epoch=t2020)"
   ]
  },
  {
   "cell_type": "markdown",
   "metadata": {},
   "source": [
    "# Initialize a ground target"
   ]
  },
  {
   "cell_type": "code",
   "execution_count": 7,
   "metadata": {
    "ExecuteTime": {
     "end_time": "2023-09-09T08:57:10.891114Z",
     "start_time": "2023-09-09T08:57:10.875943Z"
    }
   },
   "outputs": [],
   "source": [
    "#Target at 5 deg latitude, 5 deg longitude\n",
    "lat = 5 * u.deg\n",
    "lon = 5 * u.deg\n",
    "gs_h = 0 * u.m #0 meters height of ground target\n",
    "gsID = 1 #Call this ground station 1\n",
    "\n",
    "#Initialize ground target\n",
    "gTarget = sb.GroundLoc(lon, lat, gs_h, groundID=gsID) "
   ]
  },
  {
   "cell_type": "markdown",
   "metadata": {},
   "source": [
    "# Run Simulation "
   ]
  },
  {
   "cell_type": "code",
   "execution_count": 8,
   "metadata": {
    "ExecuteTime": {
     "end_time": "2023-09-09T09:02:17.448554Z",
     "start_time": "2023-09-09T08:57:10.892028Z"
    }
   },
   "outputs": [
    {
     "name": "stdout",
     "output_type": "stream",
     "text": [
      "Step 1 of 5: Generating Schedule\n",
      "Step 2 of 5: Propagating Satellites\n",
      "Step 3 of 5: Calculating Relative Data\n"
     ]
    },
    {
     "name": "stderr",
     "output_type": "stream",
     "text": [
      "/Users/manweichan/Desktop/MITPhD/SAS/code/.venv/lib/python3.7/site-packages/astropy/units/quantity.py:486: RuntimeWarning: invalid value encountered in arccos\n",
      "  result = super().__array_ufunc__(function, method, *arrays, **kwargs)\n"
     ]
    },
    {
     "name": "stdout",
     "output_type": "stream",
     "text": [
      "Step 4 of 5: Calculating Access to groundStations\n",
      "Step 5 of 5: Run Dijkstra\n"
     ]
    },
    {
     "name": "stderr",
     "output_type": "stream",
     "text": [
      "WARNING: AstropyDeprecationWarning: The truth value of a Quantity is ambiguous. In the future this will raise a ValueError. [astropy.units.quantity]\n"
     ]
    },
    {
     "name": "stdout",
     "output_type": "stream",
     "text": [
      "Dijkstra for Sat 5\n",
      "Dijkstra for Sat 4\n",
      "Dijkstra for Sat 8\n",
      "Dijkstra for Sat 7\n",
      "We found the following best path with a value of 2019-03-21 12:19:45.000.\n",
      "4 -> g5\n",
      "We found the following best path with a value of 2019-03-22 12:02:15.000.\n",
      "4 -> g5\n",
      "We found the following best path with a value of 2019-03-23 11:45:00.000.\n",
      "4 -> g5\n",
      "We found the following best path with a value of 2019-03-21 11:59:45.000.\n",
      "8 -> 5 -> g5\n",
      "We found the following best path with a value of 2019-03-22 13:53:00.000.\n",
      "8 -> g1\n",
      "We found the following best path with a value of 2019-03-23 11:25:00.000.\n",
      "8 -> 0 -> g5\n"
     ]
    }
   ],
   "source": [
    "outputReconIsl = utils.get_fastest_downlink_lighting(walker, groundStations, gTarget, t2020, distanceThreshold=distThreshold, t2propagate=t2propagate, simTime=t2propagate,verbose=True)"
   ]
  },
  {
   "cell_type": "code",
   "execution_count": 9,
   "metadata": {
    "ExecuteTime": {
     "end_time": "2023-09-09T09:02:17.472058Z",
     "start_time": "2023-09-09T09:02:17.449987Z"
    }
   },
   "outputs": [],
   "source": [
    "#Extract raw data outputs\n",
    "lightReconIsl = outputReconIsl[\"outputLighting\"]"
   ]
  },
  {
   "cell_type": "code",
   "execution_count": 10,
   "metadata": {
    "ExecuteTime": {
     "end_time": "2023-09-09T09:02:17.492310Z",
     "start_time": "2023-09-09T09:02:17.473160Z"
    }
   },
   "outputs": [],
   "source": [
    "#Calculate metrics\n",
    "metricReconIslLighting = utils.calc_metrics(lightReconIsl, T=t2propagate)"
   ]
  },
  {
   "cell_type": "code",
   "execution_count": 13,
   "metadata": {
    "ExecuteTime": {
     "end_time": "2023-09-09T09:05:43.946575Z",
     "start_time": "2023-09-09T09:05:43.908349Z"
    }
   },
   "outputs": [
    {
     "data": {
      "text/plain": [
       "{'AoI': <Quantity 620.60812355 min>,\n",
       " 'srt': <Quantity 719.75 min>,\n",
       " 'passTimeSum': <Quantity 330. s>}"
      ]
     },
     "execution_count": 13,
     "metadata": {},
     "output_type": "execute_result"
    }
   ],
   "source": [
    "metricReconIslLighting"
   ]
  },
  {
   "cell_type": "code",
   "execution_count": null,
   "metadata": {},
   "outputs": [],
   "source": []
  }
 ],
 "metadata": {
  "kernelspec": {
   "display_name": "Python 3 (ipykernel)",
   "language": "python",
   "name": "python3"
  },
  "language_info": {
   "codemirror_mode": {
    "name": "ipython",
    "version": 3
   },
   "file_extension": ".py",
   "mimetype": "text/x-python",
   "name": "python",
   "nbconvert_exporter": "python",
   "pygments_lexer": "ipython3",
   "version": "3.7.3"
  },
  "toc": {
   "base_numbering": 1,
   "nav_menu": {},
   "number_sections": true,
   "sideBar": true,
   "skip_h1_title": false,
   "title_cell": "Table of Contents",
   "title_sidebar": "Contents",
   "toc_cell": false,
   "toc_position": {},
   "toc_section_display": true,
   "toc_window_display": false
  }
 },
 "nbformat": 4,
 "nbformat_minor": 4
}
