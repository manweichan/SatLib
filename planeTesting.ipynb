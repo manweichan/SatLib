{
 "cells": [
  {
   "cell_type": "code",
   "execution_count": 1,
   "metadata": {},
   "outputs": [],
   "source": [
    "%load_ext autoreload\n",
    "%autoreload 2\n",
    "import sys\n",
    "sys.path.append('../SatLib')"
   ]
  },
  {
   "cell_type": "code",
   "execution_count": 2,
   "metadata": {},
   "outputs": [],
   "source": [
    "import satbox as sb\n",
    "import astropy.units as u\n",
    "from astropy.time import Time\n",
    "import Interval_Finder as IF  "
   ]
  },
  {
   "cell_type": "code",
   "execution_count": 18,
   "metadata": {},
   "outputs": [],
   "source": [
    "input_dict = {'i': 60, 't': 56, 'p': 1, 'f': 0, 'alt': 505, 'dist_threshold': 1000, 'time': '2022-06-08T00:00:00', 'prop_dur': 1}"
   ]
  },
  {
   "cell_type": "code",
   "execution_count": 19,
   "metadata": {},
   "outputs": [],
   "source": [
    "i = input_dict['i'] *u.deg\n",
    "t = input_dict['t'] \n",
    "p = input_dict['p']\n",
    "f = input_dict['f']\n",
    "alt = input_dict['alt'] *u.km\n",
    "dist_threshold = input_dict['dist_threshold']\n",
    "time = input_dict['time']\n",
    "prop_dur = input_dict['prop_dur']"
   ]
  },
  {
   "cell_type": "code",
   "execution_count": 20,
   "metadata": {},
   "outputs": [],
   "source": [
    "epoch = Time(time, format='isot', scale='utc')\n",
    "walker = sb.Constellation.from_walker(i, t, p, f, alt)\n",
    "t2propagate = prop_dur*u.day\n",
    "tStep = 60 * u.s\n",
    "walkerSim = sb.SimConstellation(walker, t2propagate, tStep, verbose = True)\n",
    "walkerSim.propagate()"
   ]
  },
  {
   "cell_type": "code",
   "execution_count": 21,
   "metadata": {},
   "outputs": [
    {
     "name": "stdout",
     "output_type": "stream",
     "text": [
      "No False Intervals Found\n",
      "No False Intervals Found\n",
      "No False Intervals Found\n",
      "No False Intervals Found\n",
      "No False Intervals Found\n",
      "No False Intervals Found\n",
      "No False Intervals Found\n",
      "No False Intervals Found\n",
      "No False Intervals Found\n",
      "No False Intervals Found\n",
      "No False Intervals Found\n",
      "No False Intervals Found\n",
      "No False Intervals Found\n",
      "No False Intervals Found\n",
      "No False Intervals Found\n",
      "No False Intervals Found\n",
      "No False Intervals Found\n",
      "No False Intervals Found\n",
      "No False Intervals Found\n",
      "No False Intervals Found\n",
      "No False Intervals Found\n",
      "No False Intervals Found\n",
      "No False Intervals Found\n",
      "No False Intervals Found\n",
      "No False Intervals Found\n",
      "No False Intervals Found\n",
      "No False Intervals Found\n",
      "No False Intervals Found\n",
      "No False Intervals Found\n",
      "No False Intervals Found\n",
      "No False Intervals Found\n",
      "No False Intervals Found\n",
      "No False Intervals Found\n",
      "No False Intervals Found\n",
      "No False Intervals Found\n",
      "No False Intervals Found\n",
      "No False Intervals Found\n",
      "No False Intervals Found\n",
      "No False Intervals Found\n",
      "No False Intervals Found\n",
      "No False Intervals Found\n",
      "No False Intervals Found\n",
      "No False Intervals Found\n",
      "No False Intervals Found\n",
      "No False Intervals Found\n",
      "No False Intervals Found\n",
      "No False Intervals Found\n",
      "No False Intervals Found\n",
      "No False Intervals Found\n",
      "No False Intervals Found\n",
      "No False Intervals Found\n",
      "No False Intervals Found\n",
      "No False Intervals Found\n",
      "No False Intervals Found\n",
      "No False Intervals Found\n",
      "No False Intervals Found\n"
     ]
    }
   ],
   "source": [
    "relative_position_data_ISL = IF.get_relative_position_data_ISL(walkerSim,dist_threshold)\n",
    "satellites = IF.find_feasible_links_ISL(t, relative_position_data_ISL)\n",
    "L_avail_ISL = IF.get_availability_ISL(satellites, relative_position_data_ISL)\n",
    "L_poly_ISL = IF.get_polyline_ISL(satellites, relative_position_data_ISL)"
   ]
  },
  {
   "cell_type": "code",
   "execution_count": 22,
   "metadata": {},
   "outputs": [],
   "source": [
    "walker.generate_czml_file(prop_duration=prop_dur, sample_points=prop_dur*144, fname='planeTesting', satellites=satellites, L_avail_ISL=L_avail_ISL, L_poly_ISL=L_poly_ISL, show_polyline_ISL=True, create_file=True)"
   ]
  }
 ],
 "metadata": {
  "interpreter": {
   "hash": "53f9a620942efef4842c7d5d031823ec10ba83e52465ee2ab3631938c4535d9a"
  },
  "kernelspec": {
   "display_name": "Python 3.9.7 64-bit ('SatelliteExample': conda)",
   "name": "python3"
  },
  "language_info": {
   "codemirror_mode": {
    "name": "ipython",
    "version": 3
   },
   "file_extension": ".py",
   "mimetype": "text/x-python",
   "name": "python",
   "nbconvert_exporter": "python",
   "pygments_lexer": "ipython3",
   "version": "3.9.7"
  },
  "orig_nbformat": 4
 },
 "nbformat": 4,
 "nbformat_minor": 2
}
